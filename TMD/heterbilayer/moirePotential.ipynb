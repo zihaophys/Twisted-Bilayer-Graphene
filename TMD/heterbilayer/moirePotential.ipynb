{
 "cells": [
  {
   "cell_type": "code",
   "execution_count": 1,
   "metadata": {},
   "outputs": [],
   "source": [
    "import numpy as np\n",
    "import matplotlib.pyplot as plt\n",
    "from numpy import exp"
   ]
  },
  {
   "cell_type": "code",
   "execution_count": 2,
   "metadata": {},
   "outputs": [],
   "source": [
    "I = complex(0, 1)\n",
    "V = 6.6\n",
    "Psi = -94*np.pi/180"
   ]
  },
  {
   "cell_type": "code",
   "execution_count": 3,
   "metadata": {},
   "outputs": [],
   "source": [
    "def Rot(theta):\n",
    "    return np.array([[np.cos(theta), -np.sin(theta)], [np.sin(theta), np.cos(theta)]])"
   ]
  },
  {
   "cell_type": "code",
   "execution_count": 4,
   "metadata": {},
   "outputs": [],
   "source": [
    "b1 = np.array([4*np.pi/np.sqrt(3), 0])"
   ]
  },
  {
   "cell_type": "code",
   "execution_count": 5,
   "metadata": {},
   "outputs": [],
   "source": [
    "b2 = Rot(np.pi/3).dot(b1)\n",
    "b3 = Rot(np.pi/3).dot(b2)\n",
    "b4 = Rot(np.pi/3).dot(b3)\n",
    "b5 = Rot(np.pi/3).dot(b4)\n",
    "b6 = Rot(np.pi/3).dot(b5)"
   ]
  },
  {
   "cell_type": "code",
   "execution_count": 6,
   "metadata": {},
   "outputs": [],
   "source": [
    "Vb1 = V*exp(I*Psi)\n",
    "Vb2 = V*exp(-I*Psi)\n",
    "Vb3 = Vb1\n",
    "Vb5 = Vb1\n",
    "Vb4 = Vb2\n",
    "Vb6 = Vb2"
   ]
  },
  {
   "cell_type": "code",
   "execution_count": 7,
   "metadata": {},
   "outputs": [],
   "source": [
    "def MoirePotential(rx, ry):\n",
    "    r = np.array([rx, ry])\n",
    "    mp = Vb1*exp(I*b1.dot(r))+Vb2*exp(I*b2.dot(r))+Vb3*exp(I*b3.dot(r))+\\\n",
    "         Vb4*exp(I*b4.dot(r))+Vb5*exp(I*b5.dot(r))+Vb6*exp(I*b6.dot(r))\n",
    "    return mp"
   ]
  },
  {
   "cell_type": "code",
   "execution_count": 8,
   "metadata": {},
   "outputs": [],
   "source": [
    "rxs = np.arange(-1.5, 1.5, 0.01)\n",
    "rys = np.arange(-1.5, 1.5, 0.01)\n",
    "rxdim = len(rxs)\n",
    "rydim = len(rys)\n",
    "mp = np.zeros((rxdim, rydim), dtype=complex)\n",
    "for x in range(rxdim):\n",
    "    for y in range(rydim):\n",
    "        mp[y, x] = MoirePotential(rxs[x], rys[y])"
   ]
  },
  {
   "cell_type": "code",
   "execution_count": 45,
   "metadata": {},
   "outputs": [
    {
     "name": "stderr",
     "output_type": "stream",
     "text": [
      "/Users/zihaophys/miniconda3/lib/python3.7/site-packages/numpy/ma/core.py:2788: ComplexWarning: Casting complex values to real discards the imaginary part\n",
      "  order=order, subok=True, ndmin=ndmin)\n",
      "/Users/zihaophys/miniconda3/lib/python3.7/site-packages/ipykernel_launcher.py:4: MatplotlibDeprecationWarning: Adding an axes using the same arguments as a previous axes currently reuses the earlier instance.  In a future version, a new instance will always be created and returned.  Meanwhile, this warning can be suppressed, and the future behavior ensured, by passing a unique label to each axes instance.\n",
      "  after removing the cwd from sys.path.\n"
     ]
    }
   ],
   "source": [
    "%matplotlib qt\n",
    "plt.contourf(rxs, rys, mp, 8, cmap='viridis')\n",
    "plt.colorbar()\n",
    "plt.axes().set_aspect('equal')\n",
    "plt.xticks([-1, 0, 1], ['-1', '0', '1'])\n",
    "plt.yticks([-1, 0, 1], ['-1', '0', '1'])\n",
    "plt.xlabel('$x/a_M$')\n",
    "plt.ylabel('$y/a_M$')\n",
    "plt.xlim(-1.5, 1.5)\n",
    "plt.ylim(-1.5, 1.5)\n",
    "plt.plot([-1.5, 1.5], [1.5/np.sqrt(3)-1/3, -1.5/np.sqrt(3)-1/3], '--', color='orange')\n",
    "\n",
    "plt.plot([-1.5, 1.5], [1.5/np.sqrt(3)-1/3+1, -1.5/np.sqrt(3)-1/3+1], '--', color='orange')\n",
    "plt.plot([-1.5, 1.5], [1.5/np.sqrt(3)-1/3-1, -1.5/np.sqrt(3)-1/3-1], '--', color='orange')\n",
    "plt.plot([-1.5, 1.5], [1.5/np.sqrt(3)-1/3+2, -1.5/np.sqrt(3)-1/3+2], '--', color='orange')\n",
    "\n",
    "plt.plot([-1.5, 1.5], [-1.5/np.sqrt(3)+1/3, +1.5/np.sqrt(3)+1/3], '--', color='orange')\n",
    "\n",
    "plt.plot([-1.5, 1.5], [-1.5/np.sqrt(3)+1/3+1, +1.5/np.sqrt(3)+1/3+1], '--', color='orange')\n",
    "plt.plot([-1.5, 1.5], [-1.5/np.sqrt(3)+1/3-1, +1.5/np.sqrt(3)+1/3-1], '--', color='orange')\n",
    "plt.plot([-1.5, 1.5], [-1.5/np.sqrt(3)+1/3+2, +1.5/np.sqrt(3)+1/3+2], '--', color='orange')\n",
    "plt.plot([-1.5, 1.5], [-1.5/np.sqrt(3)+1/3-2, +1.5/np.sqrt(3)+1/3-2], '--', color='orange')\n",
    "plt.vlines(2/np.sqrt(3), -1.5, 1.5,linestyles='--', color='orange')\n",
    "plt.vlines(-1/np.sqrt(3), -1.5, 1.5,linestyles='--', color='orange')\n",
    "plt.vlines(-5/2/np.sqrt(3), -1.5, 1.5,linestyles='--', color='orange')\n",
    "plt.vlines(1/2/np.sqrt(3), -1.5, 1.5, linestyles='--', color='orange')\n",
    "plt.show()\n"
   ]
  },
  {
   "cell_type": "code",
   "execution_count": 54,
   "metadata": {},
   "outputs": [
    {
     "data": {
      "text/plain": [
       "Text(0.5, 1, '$\\\\theta\\\\neq0 ,\\\\Delta(r)$')"
      ]
     },
     "execution_count": 54,
     "metadata": {},
     "output_type": "execute_result"
    }
   ],
   "source": [
    "plt.title(r'$\\theta\\neq0 ,\\Delta(r)$')"
   ]
  },
  {
   "cell_type": "code",
   "execution_count": null,
   "metadata": {},
   "outputs": [],
   "source": []
  }
 ],
 "metadata": {
  "kernelspec": {
   "display_name": "Python 3",
   "language": "python",
   "name": "python3"
  },
  "language_info": {
   "codemirror_mode": {
    "name": "ipython",
    "version": 3
   },
   "file_extension": ".py",
   "mimetype": "text/x-python",
   "name": "python",
   "nbconvert_exporter": "python",
   "pygments_lexer": "ipython3",
   "version": "3.7.3"
  }
 },
 "nbformat": 4,
 "nbformat_minor": 2
}
